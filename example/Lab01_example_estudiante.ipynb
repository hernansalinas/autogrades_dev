{
 "cells": [
  {
   "cell_type": "markdown",
   "metadata": {
    "id": "GUTNoRgHTjfg"
   },
   "source": [
    "# Laboratorio 01\n",
    "### Métodos computacionales para físicos  y astrónomos\n",
    "### Universidad de Antioquia\n",
    "### Prof: Hernan D. Salinas Jiménez\n"
   ]
  },
  {
   "cell_type": "code",
   "execution_count": 14,
   "metadata": {
    "colab": {
     "base_uri": "https://localhost:8080/"
    },
    "id": "NmGdQYCBL7cs",
    "outputId": "00fdce0a-0bbb-4089-9d36-66d2d8a72d96"
   },
   "outputs": [
    {
     "name": "stderr",
     "output_type": "stream",
     "text": [
      "/Users/neuman/Documents/Proyectos/Autogrades/libs/libUnitTest.py:5: DeprecationWarning: Importing display from IPython.core.display is deprecated since IPython 7.14, please import from IPython display\n",
      "  import unittest\n"
     ]
    }
   ],
   "source": [
    "# Ejecutar esta celda antes de cada laboratorio\n",
    "%run -i ../libs/libUnitTest.py"
   ]
  },
  {
   "cell_type": "markdown",
   "metadata": {
    "id": "OkdTI9KQ8MLN"
   },
   "source": [
    "# Operaciones básicas en python.\n",
    "\n",
    "\n",
    "### Definicion de variables\n",
    "1. Definir una variable x tipo entero.\n",
    "2. Definir una variable y tipo float \n",
    "3. Definir una variable z tipo string."
   ]
  },
  {
   "cell_type": "code",
   "execution_count": 15,
   "metadata": {},
   "outputs": [],
   "source": [
    "x = ...\n",
    "y = ...\n",
    "z = ..."
   ]
  },
  {
   "cell_type": "code",
   "execution_count": 17,
   "metadata": {
    "colab": {
     "base_uri": "https://localhost:8080/",
     "height": 292
    },
    "id": "aod54z2z-ZeY",
    "outputId": "b744b169-0729-4de1-c68d-1334df8ab1e6"
   },
   "outputs": [
    {
     "data": {
      "text/html": [
       "<style>\n",
       "  table { text-align: left; border-collapse: collapse; margin: 1em; caption-side: bottom; font-family: Sans-Serif; font-size: 12px}\n",
       "  caption { text-align: left; padding: 5px }\n",
       "  th, td { border: 2px solid #BFC9CA; padding: 5px }\n",
       "  th { background-color: #BFC9CA }\n",
       "  .passed { background-color: #76D7C4 }\n",
       "  .failed { background-color: #EC7063 }\n",
       "  .skipped { background-color: #EDBB99 }\n",
       "  .score { background-color: #7DCEA0 }\n",
       "  .results .points { display: none }\n",
       "  .results .message { display: block; font-size:smaller; color:#D35400 }\n",
       "  .results .note { display: block; font-size:smaller; font-decoration:italics }\n",
       "  .results .passed::before  { content: \"Passed\" } \n",
       "  .results .skipped::before  { content: \"Skipped\" } \n",
       "  .results .failed::before  { content: \"Failed\" } \n",
       "  .grade .passed  .message:empty::before { content:\"Passed\" }\n",
       "  .grade .failed  .message:empty::before { content:\"Failed\" }\n",
       "  .grade .skipped .message:empty::before { content:\"Skipped\" }   \n",
       "</style>\n",
       "<table class='results'>\n",
       "  <th class='test'>Test</th><th class='result'>Result</th></tr>\n",
       "<tr>\n",
       "  <td class='test'>\n",
       "    Definir x como un numero entero\n",
       "  <div class='note'>Hint: Recuerde definir el tipo adecuado empleando el metodo int</div>\n",
       "    <hr/>\n",
       "    <div class='message'>Error: &lt;class &#x27;ellipsis&#x27;&gt; != &lt;class &#x27;int&#x27;&gt; : #- x=Ellipsis migth be type int\n",
       "</div>\n",
       "  </td>\n",
       "  <td class='result failed'></td>\n",
       "</tr>\n",
       "<tr>\n",
       "  <td class='test'>\n",
       "    Defiir y como una variable tipo float\n",
       "  <div class='note'>Hint: Recuerde definir el tipo adecuado empleando el metodo float</div>\n",
       "    <hr/>\n",
       "    <div class='message'>Error: &lt;class &#x27;ellipsis&#x27;&gt; != &lt;class &#x27;float&#x27;&gt; : #- y=Ellipsis migth be type float\n",
       "</div>\n",
       "  </td>\n",
       "  <td class='result failed'></td>\n",
       "</tr>\n",
       "<tr>\n",
       "  <td class='test'>\n",
       "    Definir z como un string\n",
       "  <div class='note'>Hint: Recuerde definir el tipo adecuado emplando dobles o simples comillas</div>\n",
       "    <hr/>\n",
       "    <div class='message'>Error: &lt;class &#x27;ellipsis&#x27;&gt; != &lt;class &#x27;str&#x27;&gt; : #- z=Ellipsis migth be type string\n",
       "</div>\n",
       "  </td>\n",
       "  <td class='result failed'></td>\n",
       "</tr>  <tr><th class='score'>Total Points</th><th class='score'>0</th></tr></table>\n"
      ],
      "text/plain": [
       "<IPython.core.display.HTML object>"
      ]
     },
     "metadata": {},
     "output_type": "display_data"
    }
   ],
   "source": [
    "# Ejecute la presente celda para probar su solucion \n",
    "path=\"test\"\n",
    "%run -i {path}/test01.py"
   ]
  },
  {
   "cell_type": "markdown",
   "metadata": {
    "id": "9JTEaQro_I8E"
   },
   "source": [
    "\n",
    "\n",
    "###  Creación de Funciones\n",
    "4. Crear una función con el nombre mul_lambda, lambda que multiple dos enteros, el resultado deberá ser un número entero.  \n",
    "\n",
    "Ejemplo de ejecución:\n",
    "\n",
    "```python\n",
    "mul_lambda(a,b)\n",
    "donde a, y b son numeros enteros\n",
    "```\n",
    "\n",
    "\n",
    "5. Crear una función explicita con el nombre de suma_int, que realice la suma de dos números enteros\n",
    "\n",
    "Ejemplo de ejecución:\n",
    "\n",
    "```python\n",
    "sum_int(a,b)\n",
    "donde a, y b son numeros enteros\n",
    "```\n",
    "\n"
   ]
  },
  {
   "cell_type": "code",
   "execution_count": 18,
   "metadata": {
    "colab": {
     "base_uri": "https://localhost:8080/"
    },
    "id": "lSsnEjAx_Gay",
    "outputId": "c0c4cb6d-d389-4864-87c1-cad4d19ba7f4"
   },
   "outputs": [
    {
     "data": {
      "text/html": [
       "<style>\n",
       "  table { text-align: left; border-collapse: collapse; margin: 1em; caption-side: bottom; font-family: Sans-Serif; font-size: 12px}\n",
       "  caption { text-align: left; padding: 5px }\n",
       "  th, td { border: 2px solid #BFC9CA; padding: 5px }\n",
       "  th { background-color: #BFC9CA }\n",
       "  .passed { background-color: #76D7C4 }\n",
       "  .failed { background-color: #EC7063 }\n",
       "  .skipped { background-color: #EDBB99 }\n",
       "  .score { background-color: #7DCEA0 }\n",
       "  .results .points { display: none }\n",
       "  .results .message { display: block; font-size:smaller; color:#D35400 }\n",
       "  .results .note { display: block; font-size:smaller; font-decoration:italics }\n",
       "  .results .passed::before  { content: \"Passed\" } \n",
       "  .results .skipped::before  { content: \"Skipped\" } \n",
       "  .results .failed::before  { content: \"Failed\" } \n",
       "  .grade .passed  .message:empty::before { content:\"Passed\" }\n",
       "  .grade .failed  .message:empty::before { content:\"Failed\" }\n",
       "  .grade .skipped .message:empty::before { content:\"Skipped\" }   \n",
       "</style>\n",
       "<table class='results'>\n",
       "  <th class='test'>Test</th><th class='result'>Result</th></tr>\n",
       "<tr>\n",
       "  <td class='test'>\n",
       "    Crear una funcion que multiplique dos números\n",
       "    <div class='message'>Error: ([], &#x27;#- mul_lambda is not define&#x27;)\n",
       "</div>\n",
       "  </td>\n",
       "  <td class='result failed'></td>\n",
       "</tr>\n",
       "<tr>\n",
       "  <td class='test'>\n",
       "    Crear una funcion que sume dos números\n",
       "    <div class='message'>Error: ([], &#x27;#- sum_int is not define&#x27;)\n",
       "</div>\n",
       "  </td>\n",
       "  <td class='result failed'></td>\n",
       "</tr>  <tr><th class='score'>Total Points</th><th class='score'>0</th></tr></table>\n"
      ],
      "text/plain": [
       "<IPython.core.display.HTML object>"
      ]
     },
     "metadata": {},
     "output_type": "display_data"
    }
   ],
   "source": [
    "%run -i {path}/test02.py"
   ]
  },
  {
   "cell_type": "markdown",
   "metadata": {
    "id": "uu42QkJsCQMb"
   },
   "source": [
    "\n",
    "###  Números complejos\n",
    "\n",
    "6. Defina un número complejo w.\n",
    "7. Retorne la parte imaginaria de w, almacenela en una variable w_img\n",
    "8. Retorne la parte real de w, almacenela en una variable w_real.\n",
    "9. Retorne el complejo conjugado de w, almacenla en una varible w_con.\n"
   ]
  },
  {
   "cell_type": "code",
   "execution_count": 19,
   "metadata": {},
   "outputs": [
    {
     "name": "stdout",
     "output_type": "stream",
     "text": [
      "Variable w is not define\n"
     ]
    },
    {
     "data": {
      "text/html": [
       "<style>\n",
       "  table { text-align: left; border-collapse: collapse; margin: 1em; caption-side: bottom; font-family: Sans-Serif; font-size: 12px}\n",
       "  caption { text-align: left; padding: 5px }\n",
       "  th, td { border: 2px solid #BFC9CA; padding: 5px }\n",
       "  th { background-color: #BFC9CA }\n",
       "  .passed { background-color: #76D7C4 }\n",
       "  .failed { background-color: #EC7063 }\n",
       "  .skipped { background-color: #EDBB99 }\n",
       "  .score { background-color: #7DCEA0 }\n",
       "  .results .points { display: none }\n",
       "  .results .message { display: block; font-size:smaller; color:#D35400 }\n",
       "  .results .note { display: block; font-size:smaller; font-decoration:italics }\n",
       "  .results .passed::before  { content: \"Passed\" } \n",
       "  .results .skipped::before  { content: \"Skipped\" } \n",
       "  .results .failed::before  { content: \"Failed\" } \n",
       "  .grade .passed  .message:empty::before { content:\"Passed\" }\n",
       "  .grade .failed  .message:empty::before { content:\"Failed\" }\n",
       "  .grade .skipped .message:empty::before { content:\"Skipped\" }   \n",
       "</style>\n",
       "<table class='results'>\n",
       "  <th class='test'>Test</th><th class='result'>Result</th></tr>\n",
       "<tr>\n",
       "  <td class='test'>\n",
       "    Definir w como un número complejo\n",
       "  <div class='note'>Hint: Recuerde definir el tipo adecuado</div>\n",
       "    <hr/>\n",
       "    <div class='message'>Error: ([], &#x27;#- w is not define&#x27;)\n",
       "</div>\n",
       "  </td>\n",
       "  <td class='result failed'></td>\n",
       "</tr>  <tr><th class='score'>Total Points</th><th class='score'>0</th></tr></table>\n"
      ],
      "text/plain": [
       "<IPython.core.display.HTML object>"
      ]
     },
     "metadata": {},
     "output_type": "display_data"
    }
   ],
   "source": [
    "%run -i {path}/test03.py"
   ]
  },
  {
   "cell_type": "markdown",
   "metadata": {
    "id": "P-2vd2FFV-R-"
   },
   "source": [
    "###  Listas \n",
    "\n",
    "10.0  Construir una lista L con las variables usadas hasta acá y los resultados de las funciones.\n",
    "\n",
    "L=[x,y,z,mul_lambda, mul_int,w, w_img, w_real, w_con ]\n",
    "\n",
    "11.0 Invierta la lista y almacene en una variable L_reverse \n",
    "\n",
    "12.0 Almacene los elementos impares de la lista, L_imp\n",
    "\n",
    "13.0 Almacene los elementos pares de la lista, L_par\n",
    "\n",
    "14.0 Modifique el elemento 5 de la lista L con la palabra \"hello world\"\n"
   ]
  },
  {
   "cell_type": "code",
   "execution_count": 10,
   "metadata": {
    "id": "qq83TzINWBph"
   },
   "outputs": [],
   "source": [
    "L=..."
   ]
  },
  {
   "cell_type": "code",
   "execution_count": 23,
   "metadata": {
    "colab": {
     "base_uri": "https://localhost:8080/",
     "height": 643
    },
    "id": "rUAEpJDDdM2q",
    "outputId": "71e5559a-345c-42f0-fca2-a8dd56189186"
   },
   "outputs": [
    {
     "name": "stdout",
     "output_type": "stream",
     "text": [
      "L no esta definida\n"
     ]
    }
   ],
   "source": [
    "%run -i {path}/test04.py"
   ]
  },
  {
   "cell_type": "markdown",
   "metadata": {
    "id": "9vVIrQeytD30"
   },
   "source": [
    "###  Tuplas\n",
    "\n",
    "15.0 Definir una tupla con 5 elementos almacenda en la variable Tup, los primeros 3 tipo string y los ultimos dos, tipo float. "
   ]
  },
  {
   "cell_type": "code",
   "execution_count": 24,
   "metadata": {
    "colab": {
     "base_uri": "https://localhost:8080/",
     "height": 252
    },
    "id": "UswyGx3xuou2",
    "outputId": "a729c6ac-8fd0-4e18-e5b5-2d7af40718ff"
   },
   "outputs": [
    {
     "name": "stdout",
     "output_type": "stream",
     "text": [
      "La tupla con nombre tup no fue definida\n"
     ]
    }
   ],
   "source": [
    "%run -i {path}/test05.py"
   ]
  },
  {
   "cell_type": "markdown",
   "metadata": {
    "id": "E1VlbpbEysKy"
   },
   "source": [
    "###  Set \n",
    "16.0 Defina una variable tipo set llamada  D con los primeros 10 numeros de Bernulli, consultalos en la red. Notese que pasa en este variables cuando alguno de los elementos se repite\n",
    "\n",
    "17.0 Defina una variable tipo set llamada E con los números naturales del 1 al 20.\n",
    "\n",
    "18.0 Calcule la unión  y almacenela en una variable U.\n",
    "\n",
    "19.0 Calcule la intersección y almacenela en una variable I\n"
   ]
  },
  {
   "cell_type": "code",
   "execution_count": 25,
   "metadata": {
    "colab": {
     "base_uri": "https://localhost:8080/",
     "height": 448
    },
    "id": "YJiDfeEr2cSc",
    "outputId": "f8287d98-1611-4347-e8cc-5ca1ca42362d"
   },
   "outputs": [
    {
     "name": "stdout",
     "output_type": "stream",
     "text": [
      "Las variable no han sido definidas\n"
     ]
    },
    {
     "data": {
      "text/html": [
       "<style>\n",
       "  table { text-align: left; border-collapse: collapse; margin: 1em; caption-side: bottom; font-family: Sans-Serif; font-size: 12px}\n",
       "  caption { text-align: left; padding: 5px }\n",
       "  th, td { border: 2px solid #BFC9CA; padding: 5px }\n",
       "  th { background-color: #BFC9CA }\n",
       "  .passed { background-color: #76D7C4 }\n",
       "  .failed { background-color: #EC7063 }\n",
       "  .skipped { background-color: #EDBB99 }\n",
       "  .score { background-color: #7DCEA0 }\n",
       "  .results .points { display: none }\n",
       "  .results .message { display: block; font-size:smaller; color:#D35400 }\n",
       "  .results .note { display: block; font-size:smaller; font-decoration:italics }\n",
       "  .results .passed::before  { content: \"Passed\" } \n",
       "  .results .skipped::before  { content: \"Skipped\" } \n",
       "  .results .failed::before  { content: \"Failed\" } \n",
       "  .grade .passed  .message:empty::before { content:\"Passed\" }\n",
       "  .grade .failed  .message:empty::before { content:\"Failed\" }\n",
       "  .grade .skipped .message:empty::before { content:\"Skipped\" }   \n",
       "</style>\n",
       "<table class='results'>\n",
       "  <th class='test'>Test</th><th class='result'>Result</th></tr>\n",
       "<tr>\n",
       "  <td class='test'>\n",
       "    Definir una variable D tipo set\n",
       "  <div class='note'>Hint: Recuerde definir el tipo adecuado</div>\n",
       "    <hr/>\n",
       "    <div class='message'>Error: name &#x27;D&#x27; is not defined\n",
       "\n",
       "During handling of the above exception, another exception occurred:\n",
       "\n",
       "Traceback (most recent call last):\n",
       "  File &quot;/Users/neuman/Documents/Proyectos/Autogrades/libs/libUnitTest.py&quot;, line 32, in test_existence_var\n",
       "    raise ValueError([],f&quot;#- {var_} is not define&quot;)\n",
       "ValueError: ([], &#x27;#- D is not define&#x27;)\n",
       "</div>\n",
       "  </td>\n",
       "  <td class='result failed'></td>\n",
       "</tr>\n",
       "<tr>\n",
       "  <td class='test'>\n",
       "    Definir una variable E tipo set\n",
       "  <div class='note'>Hint: Recuerde definir el tipo adecuado</div>\n",
       "    <hr/>\n",
       "    <div class='message'>Error: name &#x27;D&#x27; is not defined\n",
       "\n",
       "During handling of the above exception, another exception occurred:\n",
       "\n",
       "Traceback (most recent call last):\n",
       "  File &quot;/Users/neuman/Documents/Proyectos/Autogrades/libs/libUnitTest.py&quot;, line 32, in test_existence_var\n",
       "    raise ValueError([],f&quot;#- {var_} is not define&quot;)\n",
       "ValueError: ([], &#x27;#- E is not define&#x27;)\n",
       "</div>\n",
       "  </td>\n",
       "  <td class='result failed'></td>\n",
       "</tr>\n",
       "<tr>\n",
       "  <td class='test'>\n",
       "    Definir una variable U tipo set\n",
       "  <div class='note'>Hint: Recuerde definir el tipo adecuado</div>\n",
       "    <hr/>\n",
       "    <div class='message'>Error: name &#x27;D&#x27; is not defined\n",
       "\n",
       "During handling of the above exception, another exception occurred:\n",
       "\n",
       "Traceback (most recent call last):\n",
       "  File &quot;/Users/neuman/Documents/Proyectos/Autogrades/libs/libUnitTest.py&quot;, line 32, in test_existence_var\n",
       "    raise ValueError([],f&quot;#- {var_} is not define&quot;)\n",
       "ValueError: ([], &#x27;#- U is not define&#x27;)\n",
       "</div>\n",
       "  </td>\n",
       "  <td class='result failed'></td>\n",
       "</tr>\n",
       "<tr>\n",
       "  <td class='test'>\n",
       "    Definir una variable I tipo set\n",
       "  <div class='note'>Hint: Recuerde definir el tipo adecuado</div>\n",
       "    <hr/>\n",
       "    <div class='message'>Error: name &#x27;D&#x27; is not defined\n",
       "\n",
       "During handling of the above exception, another exception occurred:\n",
       "\n",
       "Traceback (most recent call last):\n",
       "  File &quot;/Users/neuman/Documents/Proyectos/Autogrades/libs/libUnitTest.py&quot;, line 32, in test_existence_var\n",
       "    raise ValueError([],f&quot;#- {var_} is not define&quot;)\n",
       "ValueError: ([], &#x27;#- I is not define&#x27;)\n",
       "</div>\n",
       "  </td>\n",
       "  <td class='result failed'></td>\n",
       "</tr>  <tr><th class='score'>Total Points</th><th class='score'>0</th></tr></table>\n"
      ],
      "text/plain": [
       "<IPython.core.display.HTML object>"
      ]
     },
     "metadata": {},
     "output_type": "display_data"
    }
   ],
   "source": [
    "%run -i {path}/test06.py"
   ]
  },
  {
   "cell_type": "markdown",
   "metadata": {
    "id": "HWfazmVWTq1T"
   },
   "source": [
    "\n",
    "\n",
    "\n",
    "\n",
    "\n",
    "\n",
    "\n",
    "\n",
    "\n",
    "\n",
    "\n",
    "\n",
    "\n",
    "\n",
    "###  Diccionarios \n",
    "20.0 Construi un diccionario con 5 elementos cuya clave es el nombre del autor y valor el nombre del libro. Almacenarlo en una variable dicc.\n",
    "\n",
    "\n",
    "\n"
   ]
  },
  {
   "cell_type": "code",
   "execution_count": 26,
   "metadata": {
    "colab": {
     "base_uri": "https://localhost:8080/",
     "height": 174
    },
    "id": "yfHkEyXV6DjL",
    "outputId": "c07314b1-1a04-43f5-b125-c6b50f472f91"
   },
   "outputs": [
    {
     "name": "stdout",
     "output_type": "stream",
     "text": [
      "Las variable no han sido definidas\n"
     ]
    },
    {
     "data": {
      "text/html": [
       "<style>\n",
       "  table { text-align: left; border-collapse: collapse; margin: 1em; caption-side: bottom; font-family: Sans-Serif; font-size: 12px}\n",
       "  caption { text-align: left; padding: 5px }\n",
       "  th, td { border: 2px solid #BFC9CA; padding: 5px }\n",
       "  th { background-color: #BFC9CA }\n",
       "  .passed { background-color: #76D7C4 }\n",
       "  .failed { background-color: #EC7063 }\n",
       "  .skipped { background-color: #EDBB99 }\n",
       "  .score { background-color: #7DCEA0 }\n",
       "  .results .points { display: none }\n",
       "  .results .message { display: block; font-size:smaller; color:#D35400 }\n",
       "  .results .note { display: block; font-size:smaller; font-decoration:italics }\n",
       "  .results .passed::before  { content: \"Passed\" } \n",
       "  .results .skipped::before  { content: \"Skipped\" } \n",
       "  .results .failed::before  { content: \"Failed\" } \n",
       "  .grade .passed  .message:empty::before { content:\"Passed\" }\n",
       "  .grade .failed  .message:empty::before { content:\"Failed\" }\n",
       "  .grade .skipped .message:empty::before { content:\"Skipped\" }   \n",
       "</style>\n",
       "<table class='results'>\n",
       "  <th class='test'>Test</th><th class='result'>Result</th></tr>\n",
       "<tr>\n",
       "  <td class='test'>\n",
       "    Definir una variable dicc tipo diccionario\n",
       "  <div class='note'>Hint: Recuerde definir el tipo adecuado</div>\n",
       "    <hr/>\n",
       "    <div class='message'>Error: name &#x27;dicc&#x27; is not defined\n",
       "\n",
       "During handling of the above exception, another exception occurred:\n",
       "\n",
       "Traceback (most recent call last):\n",
       "  File &quot;/Users/neuman/Documents/Proyectos/Autogrades/libs/libUnitTest.py&quot;, line 32, in test_existence_var\n",
       "    raise ValueError([],f&quot;#- {var_} is not define&quot;)\n",
       "ValueError: ([], &#x27;#- dicc is not define&#x27;)\n",
       "</div>\n",
       "  </td>\n",
       "  <td class='result failed'></td>\n",
       "</tr>  <tr><th class='score'>Total Points</th><th class='score'>0</th></tr></table>\n"
      ],
      "text/plain": [
       "<IPython.core.display.HTML object>"
      ]
     },
     "metadata": {},
     "output_type": "display_data"
    }
   ],
   "source": [
    "%run -i {path}/test07.py"
   ]
  },
  {
   "cell_type": "markdown",
   "metadata": {
    "id": "7g0xWN387wOo"
   },
   "source": [
    "\n",
    "####  Ciclos y condicionales \n",
    "\n",
    "21.0  Cálculo de $\\pi$. Empleando la siguiente seria :\n",
    "\n",
    "\\begin{equation}\n",
    "\\frac{\\pi}{4} = 1 -\\frac{1}{3}+\\frac{1}{5}-\\frac{1}{7}+\\frac{1}{9}-...\n",
    "\\end{equation}\n",
    "\n",
    "Construya una función llamada pi_number en el que entrado el valor de k,(número de términos de la serie ) calcule el valor de pi. Si k es negativo deberá retornar un error como una variable tipo string.\n",
    "\n",
    "Ejemplo de ecución:\n",
    "```python\n",
    "pi_number(10)\n",
    "```"
   ]
  },
  {
   "cell_type": "code",
   "execution_count": 28,
   "metadata": {},
   "outputs": [],
   "source": [
    "def pi_number(x):\n",
    "    ...\n",
    "    ...\n",
    "    return 3"
   ]
  },
  {
   "cell_type": "code",
   "execution_count": 29,
   "metadata": {
    "colab": {
     "base_uri": "https://localhost:8080/",
     "height": 240
    },
    "id": "OEACMhp6BS2k",
    "outputId": "d2170b6b-30cb-4c3e-bcf6-2640704b468f"
   },
   "outputs": [
    {
     "data": {
      "text/html": [
       "<style>\n",
       "  table { text-align: left; border-collapse: collapse; margin: 1em; caption-side: bottom; font-family: Sans-Serif; font-size: 12px}\n",
       "  caption { text-align: left; padding: 5px }\n",
       "  th, td { border: 2px solid #BFC9CA; padding: 5px }\n",
       "  th { background-color: #BFC9CA }\n",
       "  .passed { background-color: #76D7C4 }\n",
       "  .failed { background-color: #EC7063 }\n",
       "  .skipped { background-color: #EDBB99 }\n",
       "  .score { background-color: #7DCEA0 }\n",
       "  .results .points { display: none }\n",
       "  .results .message { display: block; font-size:smaller; color:#D35400 }\n",
       "  .results .note { display: block; font-size:smaller; font-decoration:italics }\n",
       "  .results .passed::before  { content: \"Passed\" } \n",
       "  .results .skipped::before  { content: \"Skipped\" } \n",
       "  .results .failed::before  { content: \"Failed\" } \n",
       "  .grade .passed  .message:empty::before { content:\"Passed\" }\n",
       "  .grade .failed  .message:empty::before { content:\"Failed\" }\n",
       "  .grade .skipped .message:empty::before { content:\"Skipped\" }   \n",
       "</style>\n",
       "<table class='results'>\n",
       "  <th class='test'>Test</th><th class='result'>Result</th></tr>\n",
       "<tr>\n",
       "  <td class='test'>\n",
       "    Crear una funcion que calcule el numero pi\n",
       "    <div class='message'>Need resolve the before assignement </div>\n",
       "  </td>\n",
       "  <td class='result skipped'></td>\n",
       "</tr>\n",
       "<tr>\n",
       "  <td class='test'>\n",
       "    Prueba para valores negativos \n",
       "    <div class='message'>Need resolve the before assignement </div>\n",
       "  </td>\n",
       "  <td class='result skipped'></td>\n",
       "</tr>  <tr><th class='score'>Total Points</th><th class='score'>-1</th></tr></table>\n"
      ],
      "text/plain": [
       "<IPython.core.display.HTML object>"
      ]
     },
     "metadata": {},
     "output_type": "display_data"
    }
   ],
   "source": [
    "%run -i {path}/test08.py"
   ]
  }
 ],
 "metadata": {
  "colab": {
   "provenance": []
  },
  "kernelspec": {
   "display_name": "Python 3 (ipykernel)",
   "language": "python",
   "name": "python3"
  },
  "language_info": {
   "codemirror_mode": {
    "name": "ipython",
    "version": 3
   },
   "file_extension": ".py",
   "mimetype": "text/x-python",
   "name": "python",
   "nbconvert_exporter": "python",
   "pygments_lexer": "ipython3",
   "version": "3.10.9"
  }
 },
 "nbformat": 4,
 "nbformat_minor": 1
}
